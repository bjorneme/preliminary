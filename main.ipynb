{
 "cells": [
  {
   "cell_type": "markdown",
   "metadata": {},
   "source": [
    "# **Step 1: Import Libraries**"
   ]
  },
  {
   "cell_type": "code",
   "execution_count": 1,
   "metadata": {},
   "outputs": [
    {
     "name": "stdout",
     "output_type": "stream",
     "text": [
      "Requirement already satisfied: fastai in /cluster/home/bjorneme/.conda/envs/master_thesis/lib/python3.11/site-packages (2.7.18)\n",
      "Requirement already satisfied: pip in /cluster/home/bjorneme/.conda/envs/master_thesis/lib/python3.11/site-packages (from fastai) (24.2)\n",
      "Requirement already satisfied: packaging in /cluster/home/bjorneme/.conda/envs/master_thesis/lib/python3.11/site-packages (from fastai) (24.2)\n",
      "Requirement already satisfied: fastdownload<2,>=0.0.5 in /cluster/home/bjorneme/.conda/envs/master_thesis/lib/python3.11/site-packages (from fastai) (0.0.7)\n",
      "Requirement already satisfied: fastcore<1.8,>=1.5.29 in /cluster/home/bjorneme/.conda/envs/master_thesis/lib/python3.11/site-packages (from fastai) (1.7.20)\n",
      "Requirement already satisfied: torchvision>=0.11 in /cluster/home/bjorneme/.local/lib/python3.11/site-packages (from fastai) (0.19.1)\n",
      "Requirement already satisfied: matplotlib in /cluster/home/bjorneme/.conda/envs/master_thesis/lib/python3.11/site-packages (from fastai) (3.9.2)\n",
      "Requirement already satisfied: pandas in /cluster/home/bjorneme/.local/lib/python3.11/site-packages (from fastai) (2.2.2)\n",
      "Requirement already satisfied: requests in /cluster/home/bjorneme/.conda/envs/master_thesis/lib/python3.11/site-packages (from fastai) (2.32.3)\n",
      "Requirement already satisfied: pyyaml in /cluster/home/bjorneme/.conda/envs/master_thesis/lib/python3.11/site-packages (from fastai) (6.0.2)\n",
      "Requirement already satisfied: fastprogress>=0.2.4 in /cluster/home/bjorneme/.conda/envs/master_thesis/lib/python3.11/site-packages (from fastai) (1.0.3)\n",
      "Requirement already satisfied: pillow>=9.0.0 in /cluster/home/bjorneme/.local/lib/python3.11/site-packages (from fastai) (10.4.0)\n",
      "Requirement already satisfied: scikit-learn in /cluster/home/bjorneme/.local/lib/python3.11/site-packages (from fastai) (1.5.2)\n",
      "Requirement already satisfied: scipy in /cluster/home/bjorneme/.local/lib/python3.11/site-packages (from fastai) (1.14.1)\n",
      "Requirement already satisfied: spacy<4 in /cluster/home/bjorneme/.conda/envs/master_thesis/lib/python3.11/site-packages (from fastai) (3.8.2)\n",
      "Requirement already satisfied: torch<2.6,>=1.10 in /cluster/home/bjorneme/.local/lib/python3.11/site-packages (from fastai) (2.4.1)\n",
      "Requirement already satisfied: spacy-legacy<3.1.0,>=3.0.11 in /cluster/home/bjorneme/.conda/envs/master_thesis/lib/python3.11/site-packages (from spacy<4->fastai) (3.0.12)\n",
      "Requirement already satisfied: spacy-loggers<2.0.0,>=1.0.0 in /cluster/home/bjorneme/.conda/envs/master_thesis/lib/python3.11/site-packages (from spacy<4->fastai) (1.0.5)\n",
      "Requirement already satisfied: murmurhash<1.1.0,>=0.28.0 in /cluster/home/bjorneme/.conda/envs/master_thesis/lib/python3.11/site-packages (from spacy<4->fastai) (1.0.10)\n",
      "Requirement already satisfied: cymem<2.1.0,>=2.0.2 in /cluster/home/bjorneme/.conda/envs/master_thesis/lib/python3.11/site-packages (from spacy<4->fastai) (2.0.8)\n",
      "Requirement already satisfied: preshed<3.1.0,>=3.0.2 in /cluster/home/bjorneme/.conda/envs/master_thesis/lib/python3.11/site-packages (from spacy<4->fastai) (3.0.9)\n",
      "Requirement already satisfied: thinc<8.4.0,>=8.3.0 in /cluster/home/bjorneme/.conda/envs/master_thesis/lib/python3.11/site-packages (from spacy<4->fastai) (8.3.2)\n",
      "Requirement already satisfied: wasabi<1.2.0,>=0.9.1 in /cluster/home/bjorneme/.conda/envs/master_thesis/lib/python3.11/site-packages (from spacy<4->fastai) (1.1.3)\n",
      "Requirement already satisfied: srsly<3.0.0,>=2.4.3 in /cluster/home/bjorneme/.conda/envs/master_thesis/lib/python3.11/site-packages (from spacy<4->fastai) (2.4.8)\n",
      "Requirement already satisfied: catalogue<2.1.0,>=2.0.6 in /cluster/home/bjorneme/.conda/envs/master_thesis/lib/python3.11/site-packages (from spacy<4->fastai) (2.0.10)\n",
      "Requirement already satisfied: weasel<0.5.0,>=0.1.0 in /cluster/home/bjorneme/.conda/envs/master_thesis/lib/python3.11/site-packages (from spacy<4->fastai) (0.4.1)\n",
      "Requirement already satisfied: typer<1.0.0,>=0.3.0 in /cluster/home/bjorneme/.conda/envs/master_thesis/lib/python3.11/site-packages (from spacy<4->fastai) (0.13.1)\n",
      "Requirement already satisfied: tqdm<5.0.0,>=4.38.0 in /cluster/home/bjorneme/.conda/envs/master_thesis/lib/python3.11/site-packages (from spacy<4->fastai) (4.67.0)\n",
      "Requirement already satisfied: pydantic!=1.8,!=1.8.1,<3.0.0,>=1.7.4 in /cluster/home/bjorneme/.conda/envs/master_thesis/lib/python3.11/site-packages (from spacy<4->fastai) (2.9.2)\n",
      "Requirement already satisfied: jinja2 in /cluster/home/bjorneme/.local/lib/python3.11/site-packages (from spacy<4->fastai) (3.1.4)\n",
      "Requirement already satisfied: setuptools in /cluster/home/bjorneme/.conda/envs/master_thesis/lib/python3.11/site-packages (from spacy<4->fastai) (75.1.0)\n",
      "Requirement already satisfied: langcodes<4.0.0,>=3.2.0 in /cluster/home/bjorneme/.conda/envs/master_thesis/lib/python3.11/site-packages (from spacy<4->fastai) (3.5.0)\n",
      "Requirement already satisfied: numpy>=1.19.0 in /cluster/home/bjorneme/.conda/envs/master_thesis/lib/python3.11/site-packages (from spacy<4->fastai) (2.0.2)\n",
      "Requirement already satisfied: charset-normalizer<4,>=2 in /cluster/home/bjorneme/.conda/envs/master_thesis/lib/python3.11/site-packages (from requests->fastai) (3.4.0)\n",
      "Requirement already satisfied: idna<4,>=2.5 in /cluster/home/bjorneme/.conda/envs/master_thesis/lib/python3.11/site-packages (from requests->fastai) (3.10)\n",
      "Requirement already satisfied: urllib3<3,>=1.21.1 in /cluster/home/bjorneme/.conda/envs/master_thesis/lib/python3.11/site-packages (from requests->fastai) (2.2.3)\n",
      "Requirement already satisfied: certifi>=2017.4.17 in /cluster/home/bjorneme/.conda/envs/master_thesis/lib/python3.11/site-packages (from requests->fastai) (2024.8.30)\n",
      "Requirement already satisfied: filelock in /cluster/home/bjorneme/.local/lib/python3.11/site-packages (from torch<2.6,>=1.10->fastai) (3.16.1)\n",
      "Requirement already satisfied: typing-extensions>=4.8.0 in /cluster/home/bjorneme/.local/lib/python3.11/site-packages (from torch<2.6,>=1.10->fastai) (4.12.2)\n",
      "Requirement already satisfied: sympy in /cluster/home/bjorneme/.local/lib/python3.11/site-packages (from torch<2.6,>=1.10->fastai) (1.13.2)\n",
      "Requirement already satisfied: networkx in /cluster/home/bjorneme/.local/lib/python3.11/site-packages (from torch<2.6,>=1.10->fastai) (3.3)\n",
      "Requirement already satisfied: fsspec in /cluster/home/bjorneme/.local/lib/python3.11/site-packages (from torch<2.6,>=1.10->fastai) (2024.9.0)\n",
      "Requirement already satisfied: nvidia-cuda-nvrtc-cu12==12.1.105 in /cluster/home/bjorneme/.local/lib/python3.11/site-packages (from torch<2.6,>=1.10->fastai) (12.1.105)\n",
      "Requirement already satisfied: nvidia-cuda-runtime-cu12==12.1.105 in /cluster/home/bjorneme/.local/lib/python3.11/site-packages (from torch<2.6,>=1.10->fastai) (12.1.105)\n",
      "Requirement already satisfied: nvidia-cuda-cupti-cu12==12.1.105 in /cluster/home/bjorneme/.local/lib/python3.11/site-packages (from torch<2.6,>=1.10->fastai) (12.1.105)\n",
      "Requirement already satisfied: nvidia-cudnn-cu12==9.1.0.70 in /cluster/home/bjorneme/.local/lib/python3.11/site-packages (from torch<2.6,>=1.10->fastai) (9.1.0.70)\n",
      "Requirement already satisfied: nvidia-cublas-cu12==12.1.3.1 in /cluster/home/bjorneme/.local/lib/python3.11/site-packages (from torch<2.6,>=1.10->fastai) (12.1.3.1)\n",
      "Requirement already satisfied: nvidia-cufft-cu12==11.0.2.54 in /cluster/home/bjorneme/.local/lib/python3.11/site-packages (from torch<2.6,>=1.10->fastai) (11.0.2.54)\n",
      "Requirement already satisfied: nvidia-curand-cu12==10.3.2.106 in /cluster/home/bjorneme/.local/lib/python3.11/site-packages (from torch<2.6,>=1.10->fastai) (10.3.2.106)\n",
      "Requirement already satisfied: nvidia-cusolver-cu12==11.4.5.107 in /cluster/home/bjorneme/.local/lib/python3.11/site-packages (from torch<2.6,>=1.10->fastai) (11.4.5.107)\n",
      "Requirement already satisfied: nvidia-cusparse-cu12==12.1.0.106 in /cluster/home/bjorneme/.local/lib/python3.11/site-packages (from torch<2.6,>=1.10->fastai) (12.1.0.106)\n",
      "Requirement already satisfied: nvidia-nccl-cu12==2.20.5 in /cluster/home/bjorneme/.local/lib/python3.11/site-packages (from torch<2.6,>=1.10->fastai) (2.20.5)\n",
      "Requirement already satisfied: nvidia-nvtx-cu12==12.1.105 in /cluster/home/bjorneme/.local/lib/python3.11/site-packages (from torch<2.6,>=1.10->fastai) (12.1.105)\n",
      "Requirement already satisfied: triton==3.0.0 in /cluster/home/bjorneme/.local/lib/python3.11/site-packages (from torch<2.6,>=1.10->fastai) (3.0.0)\n",
      "Requirement already satisfied: nvidia-nvjitlink-cu12 in /cluster/home/bjorneme/.local/lib/python3.11/site-packages (from nvidia-cusolver-cu12==11.4.5.107->torch<2.6,>=1.10->fastai) (12.6.68)\n",
      "Requirement already satisfied: contourpy>=1.0.1 in /cluster/home/bjorneme/.conda/envs/master_thesis/lib/python3.11/site-packages (from matplotlib->fastai) (1.3.1)\n",
      "Requirement already satisfied: cycler>=0.10 in /cluster/home/bjorneme/.conda/envs/master_thesis/lib/python3.11/site-packages (from matplotlib->fastai) (0.12.1)\n",
      "Requirement already satisfied: fonttools>=4.22.0 in /cluster/home/bjorneme/.conda/envs/master_thesis/lib/python3.11/site-packages (from matplotlib->fastai) (4.55.0)\n",
      "Requirement already satisfied: kiwisolver>=1.3.1 in /cluster/home/bjorneme/.conda/envs/master_thesis/lib/python3.11/site-packages (from matplotlib->fastai) (1.4.7)\n",
      "Requirement already satisfied: pyparsing>=2.3.1 in /cluster/home/bjorneme/.conda/envs/master_thesis/lib/python3.11/site-packages (from matplotlib->fastai) (3.2.0)\n",
      "Requirement already satisfied: python-dateutil>=2.7 in /cluster/home/bjorneme/.local/lib/python3.11/site-packages (from matplotlib->fastai) (2.9.0.post0)\n",
      "Requirement already satisfied: pytz>=2020.1 in /cluster/home/bjorneme/.local/lib/python3.11/site-packages (from pandas->fastai) (2024.2)\n",
      "Requirement already satisfied: tzdata>=2022.7 in /cluster/home/bjorneme/.local/lib/python3.11/site-packages (from pandas->fastai) (2024.1)\n",
      "Requirement already satisfied: joblib>=1.2.0 in /cluster/home/bjorneme/.local/lib/python3.11/site-packages (from scikit-learn->fastai) (1.4.2)\n",
      "Requirement already satisfied: threadpoolctl>=3.1.0 in /cluster/home/bjorneme/.local/lib/python3.11/site-packages (from scikit-learn->fastai) (3.5.0)\n",
      "Requirement already satisfied: language-data>=1.2 in /cluster/home/bjorneme/.conda/envs/master_thesis/lib/python3.11/site-packages (from langcodes<4.0.0,>=3.2.0->spacy<4->fastai) (1.3.0)\n",
      "Requirement already satisfied: annotated-types>=0.6.0 in /cluster/home/bjorneme/.conda/envs/master_thesis/lib/python3.11/site-packages (from pydantic!=1.8,!=1.8.1,<3.0.0,>=1.7.4->spacy<4->fastai) (0.7.0)\n",
      "Requirement already satisfied: pydantic-core==2.23.4 in /cluster/home/bjorneme/.conda/envs/master_thesis/lib/python3.11/site-packages (from pydantic!=1.8,!=1.8.1,<3.0.0,>=1.7.4->spacy<4->fastai) (2.23.4)\n",
      "Requirement already satisfied: six>=1.5 in /cluster/home/bjorneme/.local/lib/python3.11/site-packages (from python-dateutil>=2.7->matplotlib->fastai) (1.16.0)\n",
      "Requirement already satisfied: blis<1.1.0,>=1.0.0 in /cluster/home/bjorneme/.conda/envs/master_thesis/lib/python3.11/site-packages (from thinc<8.4.0,>=8.3.0->spacy<4->fastai) (1.0.1)\n",
      "Requirement already satisfied: confection<1.0.0,>=0.0.1 in /cluster/home/bjorneme/.conda/envs/master_thesis/lib/python3.11/site-packages (from thinc<8.4.0,>=8.3.0->spacy<4->fastai) (0.1.5)\n",
      "Requirement already satisfied: click>=8.0.0 in /cluster/home/bjorneme/.conda/envs/master_thesis/lib/python3.11/site-packages (from typer<1.0.0,>=0.3.0->spacy<4->fastai) (8.1.7)\n",
      "Requirement already satisfied: shellingham>=1.3.0 in /cluster/home/bjorneme/.conda/envs/master_thesis/lib/python3.11/site-packages (from typer<1.0.0,>=0.3.0->spacy<4->fastai) (1.5.4)\n",
      "Requirement already satisfied: rich>=10.11.0 in /cluster/home/bjorneme/.conda/envs/master_thesis/lib/python3.11/site-packages (from typer<1.0.0,>=0.3.0->spacy<4->fastai) (13.9.4)\n",
      "Requirement already satisfied: cloudpathlib<1.0.0,>=0.7.0 in /cluster/home/bjorneme/.conda/envs/master_thesis/lib/python3.11/site-packages (from weasel<0.5.0,>=0.1.0->spacy<4->fastai) (0.20.0)\n",
      "Requirement already satisfied: smart-open<8.0.0,>=5.2.1 in /cluster/home/bjorneme/.conda/envs/master_thesis/lib/python3.11/site-packages (from weasel<0.5.0,>=0.1.0->spacy<4->fastai) (7.0.5)\n",
      "Requirement already satisfied: MarkupSafe>=2.0 in /cluster/home/bjorneme/.local/lib/python3.11/site-packages (from jinja2->spacy<4->fastai) (2.1.5)\n",
      "Requirement already satisfied: mpmath<1.4,>=1.1.0 in /cluster/home/bjorneme/.local/lib/python3.11/site-packages (from sympy->torch<2.6,>=1.10->fastai) (1.3.0)\n",
      "Requirement already satisfied: marisa-trie>=1.1.0 in /cluster/home/bjorneme/.conda/envs/master_thesis/lib/python3.11/site-packages (from language-data>=1.2->langcodes<4.0.0,>=3.2.0->spacy<4->fastai) (1.2.1)\n",
      "Requirement already satisfied: markdown-it-py>=2.2.0 in /cluster/home/bjorneme/.conda/envs/master_thesis/lib/python3.11/site-packages (from rich>=10.11.0->typer<1.0.0,>=0.3.0->spacy<4->fastai) (3.0.0)\n",
      "Requirement already satisfied: pygments<3.0.0,>=2.13.0 in /cluster/home/bjorneme/.conda/envs/master_thesis/lib/python3.11/site-packages (from rich>=10.11.0->typer<1.0.0,>=0.3.0->spacy<4->fastai) (2.18.0)\n",
      "Requirement already satisfied: wrapt in /cluster/home/bjorneme/.conda/envs/master_thesis/lib/python3.11/site-packages (from smart-open<8.0.0,>=5.2.1->weasel<0.5.0,>=0.1.0->spacy<4->fastai) (1.16.0)\n",
      "Requirement already satisfied: mdurl~=0.1 in /cluster/home/bjorneme/.conda/envs/master_thesis/lib/python3.11/site-packages (from markdown-it-py>=2.2.0->rich>=10.11.0->typer<1.0.0,>=0.3.0->spacy<4->fastai) (0.1.2)\n",
      "Note: you may need to restart the kernel to use updated packages.\n"
     ]
    }
   ],
   "source": [
    "pip install fastai "
   ]
  },
  {
   "cell_type": "code",
   "execution_count": 2,
   "metadata": {},
   "outputs": [],
   "source": [
    "import os\n",
    "import zipfile\n",
    "import torch\n",
    "from torchvision.models import (\n",
    "    swin_v2_t,\n",
    "    Swin_V2_T_Weights,\n",
    ")\n",
    "import pandas as pd\n",
    "import numpy as np\n",
    "import random\n",
    "from tqdm import tqdm\n",
    "from glob import glob"
   ]
  },
  {
   "cell_type": "markdown",
   "metadata": {},
   "source": [
    "**Ensure Reproducibility**"
   ]
  },
  {
   "cell_type": "code",
   "execution_count": 3,
   "metadata": {},
   "outputs": [],
   "source": [
    "SEED = 42\n",
    "def seed_everything(seed):\n",
    "    random.seed(seed)\n",
    "    os.environ[\"PYTHONHASHSEED\"] = str(seed)\n",
    "    np.random.seed(seed)\n",
    "    torch.manual_seed(seed)\n",
    "    torch.cuda.manual_seed(seed)\n",
    "    torch.backends.cudnn.deterministic = True\n",
    "    torch.backends.cudnn.benchmark = False\n",
    "\n",
    "seed_everything(SEED)"
   ]
  },
  {
   "cell_type": "markdown",
   "metadata": {},
   "source": [
    "# **Step 2: Load Data**"
   ]
  },
  {
   "cell_type": "code",
   "execution_count": 4,
   "metadata": {},
   "outputs": [],
   "source": [
    "# Zip path\n",
    "# zip_path = '/cluster/home/bjorneme/projects/Data/chestX-ray14.zip'\n",
    "\n",
    "# Path to save extracted files\n",
    "# extracted_path = '/cluster/home/bjorneme/projects/Data/chestX-ray14-extracted'\n",
    "\n",
    "# Create extraction directory if it doesn't exist\n",
    "# os.makedirs(extracted_path, exist_ok=True)\n",
    "\n",
    "# Extract the ZIP file\n",
    "# with zipfile.ZipFile(zip_path, 'r') as zip_ref:\n",
    "    # zip_ref.extractall(extracted_path)"
   ]
  },
  {
   "cell_type": "markdown",
   "metadata": {},
   "source": [
    "# **Step 3: Data Preprocessing**"
   ]
  },
  {
   "cell_type": "code",
   "execution_count": 5,
   "metadata": {},
   "outputs": [
    {
     "name": "stderr",
     "output_type": "stream",
     "text": [
      "100%|██████████| 14/14 [00:00<00:00, 34.64it/s]\n"
     ]
    }
   ],
   "source": [
    "# Labels all possible diseases\n",
    "disease_labels = ['Atelectasis', 'Consolidation', 'Infiltration', 'Pneumothorax', 'Edema', 'Emphysema', 'Fibrosis', 'Effusion', 'Pneumonia', 'Pleural_Thickening',\n",
    "'Cardiomegaly', 'Nodule', 'Mass', 'Hernia']\n",
    "\n",
    "# NIH Dataset Labels CSV File \n",
    "labels_df = pd.read_csv('/cluster/home/bjorneme/projects/Data/chestX-ray14-extracted/Data_Entry_2017.csv')\n",
    "\n",
    "# One hot encoding\n",
    "for diseases in tqdm(disease_labels): \n",
    "    labels_df[diseases] = labels_df['Finding Labels'].map(lambda result: 1 if diseases in result else 0)"
   ]
  },
  {
   "cell_type": "code",
   "execution_count": 6,
   "metadata": {},
   "outputs": [
    {
     "data": {
      "text/html": [
       "<div>\n",
       "<style scoped>\n",
       "    .dataframe tbody tr th:only-of-type {\n",
       "        vertical-align: middle;\n",
       "    }\n",
       "\n",
       "    .dataframe tbody tr th {\n",
       "        vertical-align: top;\n",
       "    }\n",
       "\n",
       "    .dataframe thead th {\n",
       "        text-align: right;\n",
       "    }\n",
       "</style>\n",
       "<table border=\"1\" class=\"dataframe\">\n",
       "  <thead>\n",
       "    <tr style=\"text-align: right;\">\n",
       "      <th></th>\n",
       "      <th>Image Index</th>\n",
       "      <th>Finding Labels</th>\n",
       "      <th>Follow-up #</th>\n",
       "      <th>Patient ID</th>\n",
       "      <th>Patient Age</th>\n",
       "      <th>Patient Gender</th>\n",
       "      <th>View Position</th>\n",
       "      <th>OriginalImage[Width</th>\n",
       "      <th>Height]</th>\n",
       "      <th>OriginalImagePixelSpacing[x</th>\n",
       "      <th>...</th>\n",
       "      <th>Emphysema</th>\n",
       "      <th>Fibrosis</th>\n",
       "      <th>Effusion</th>\n",
       "      <th>Pneumonia</th>\n",
       "      <th>Pleural_Thickening</th>\n",
       "      <th>Cardiomegaly</th>\n",
       "      <th>Nodule</th>\n",
       "      <th>Mass</th>\n",
       "      <th>Hernia</th>\n",
       "      <th>Paths</th>\n",
       "    </tr>\n",
       "  </thead>\n",
       "  <tbody>\n",
       "    <tr>\n",
       "      <th>0</th>\n",
       "      <td>00000001_000.png</td>\n",
       "      <td>[Cardiomegaly]</td>\n",
       "      <td>0</td>\n",
       "      <td>1</td>\n",
       "      <td>58</td>\n",
       "      <td>M</td>\n",
       "      <td>PA</td>\n",
       "      <td>2682</td>\n",
       "      <td>2749</td>\n",
       "      <td>0.143</td>\n",
       "      <td>...</td>\n",
       "      <td>0</td>\n",
       "      <td>0</td>\n",
       "      <td>0</td>\n",
       "      <td>0</td>\n",
       "      <td>0</td>\n",
       "      <td>1</td>\n",
       "      <td>0</td>\n",
       "      <td>0</td>\n",
       "      <td>0</td>\n",
       "      <td>/cluster/home/bjorneme/projects/Data/chestX-ra...</td>\n",
       "    </tr>\n",
       "    <tr>\n",
       "      <th>1</th>\n",
       "      <td>00000001_001.png</td>\n",
       "      <td>[Cardiomegaly, Emphysema]</td>\n",
       "      <td>1</td>\n",
       "      <td>1</td>\n",
       "      <td>58</td>\n",
       "      <td>M</td>\n",
       "      <td>PA</td>\n",
       "      <td>2894</td>\n",
       "      <td>2729</td>\n",
       "      <td>0.143</td>\n",
       "      <td>...</td>\n",
       "      <td>1</td>\n",
       "      <td>0</td>\n",
       "      <td>0</td>\n",
       "      <td>0</td>\n",
       "      <td>0</td>\n",
       "      <td>1</td>\n",
       "      <td>0</td>\n",
       "      <td>0</td>\n",
       "      <td>0</td>\n",
       "      <td>/cluster/home/bjorneme/projects/Data/chestX-ra...</td>\n",
       "    </tr>\n",
       "    <tr>\n",
       "      <th>2</th>\n",
       "      <td>00000001_002.png</td>\n",
       "      <td>[Cardiomegaly, Effusion]</td>\n",
       "      <td>2</td>\n",
       "      <td>1</td>\n",
       "      <td>58</td>\n",
       "      <td>M</td>\n",
       "      <td>PA</td>\n",
       "      <td>2500</td>\n",
       "      <td>2048</td>\n",
       "      <td>0.168</td>\n",
       "      <td>...</td>\n",
       "      <td>0</td>\n",
       "      <td>0</td>\n",
       "      <td>1</td>\n",
       "      <td>0</td>\n",
       "      <td>0</td>\n",
       "      <td>1</td>\n",
       "      <td>0</td>\n",
       "      <td>0</td>\n",
       "      <td>0</td>\n",
       "      <td>/cluster/home/bjorneme/projects/Data/chestX-ra...</td>\n",
       "    </tr>\n",
       "    <tr>\n",
       "      <th>3</th>\n",
       "      <td>00000002_000.png</td>\n",
       "      <td>[No Finding]</td>\n",
       "      <td>0</td>\n",
       "      <td>2</td>\n",
       "      <td>81</td>\n",
       "      <td>M</td>\n",
       "      <td>PA</td>\n",
       "      <td>2500</td>\n",
       "      <td>2048</td>\n",
       "      <td>0.171</td>\n",
       "      <td>...</td>\n",
       "      <td>0</td>\n",
       "      <td>0</td>\n",
       "      <td>0</td>\n",
       "      <td>0</td>\n",
       "      <td>0</td>\n",
       "      <td>0</td>\n",
       "      <td>0</td>\n",
       "      <td>0</td>\n",
       "      <td>0</td>\n",
       "      <td>/cluster/home/bjorneme/projects/Data/chestX-ra...</td>\n",
       "    </tr>\n",
       "    <tr>\n",
       "      <th>4</th>\n",
       "      <td>00000003_000.png</td>\n",
       "      <td>[Hernia]</td>\n",
       "      <td>0</td>\n",
       "      <td>3</td>\n",
       "      <td>81</td>\n",
       "      <td>F</td>\n",
       "      <td>PA</td>\n",
       "      <td>2582</td>\n",
       "      <td>2991</td>\n",
       "      <td>0.143</td>\n",
       "      <td>...</td>\n",
       "      <td>0</td>\n",
       "      <td>0</td>\n",
       "      <td>0</td>\n",
       "      <td>0</td>\n",
       "      <td>0</td>\n",
       "      <td>0</td>\n",
       "      <td>0</td>\n",
       "      <td>0</td>\n",
       "      <td>1</td>\n",
       "      <td>/cluster/home/bjorneme/projects/Data/chestX-ra...</td>\n",
       "    </tr>\n",
       "  </tbody>\n",
       "</table>\n",
       "<p>5 rows × 27 columns</p>\n",
       "</div>"
      ],
      "text/plain": [
       "        Image Index             Finding Labels  Follow-up #  Patient ID  \\\n",
       "0  00000001_000.png             [Cardiomegaly]            0           1   \n",
       "1  00000001_001.png  [Cardiomegaly, Emphysema]            1           1   \n",
       "2  00000001_002.png   [Cardiomegaly, Effusion]            2           1   \n",
       "3  00000002_000.png               [No Finding]            0           2   \n",
       "4  00000003_000.png                   [Hernia]            0           3   \n",
       "\n",
       "   Patient Age Patient Gender View Position  OriginalImage[Width  Height]  \\\n",
       "0           58              M            PA                 2682     2749   \n",
       "1           58              M            PA                 2894     2729   \n",
       "2           58              M            PA                 2500     2048   \n",
       "3           81              M            PA                 2500     2048   \n",
       "4           81              F            PA                 2582     2991   \n",
       "\n",
       "   OriginalImagePixelSpacing[x  ...  Emphysema  Fibrosis  Effusion  Pneumonia  \\\n",
       "0                        0.143  ...          0         0         0          0   \n",
       "1                        0.143  ...          1         0         0          0   \n",
       "2                        0.168  ...          0         0         1          0   \n",
       "3                        0.171  ...          0         0         0          0   \n",
       "4                        0.143  ...          0         0         0          0   \n",
       "\n",
       "   Pleural_Thickening  Cardiomegaly  Nodule  Mass  Hernia  \\\n",
       "0                   0             1       0     0       0   \n",
       "1                   0             1       0     0       0   \n",
       "2                   0             1       0     0       0   \n",
       "3                   0             0       0     0       0   \n",
       "4                   0             0       0     0       1   \n",
       "\n",
       "                                               Paths  \n",
       "0  /cluster/home/bjorneme/projects/Data/chestX-ra...  \n",
       "1  /cluster/home/bjorneme/projects/Data/chestX-ra...  \n",
       "2  /cluster/home/bjorneme/projects/Data/chestX-ra...  \n",
       "3  /cluster/home/bjorneme/projects/Data/chestX-ra...  \n",
       "4  /cluster/home/bjorneme/projects/Data/chestX-ra...  \n",
       "\n",
       "[5 rows x 27 columns]"
      ]
     },
     "execution_count": 6,
     "metadata": {},
     "output_type": "execute_result"
    }
   ],
   "source": [
    "labels_df['Finding Labels'] = labels_df['Finding Labels'].apply(lambda s: [l for l in str(s).split('|')])\n",
    "\n",
    "num_glob = glob('/cluster/home/bjorneme/projects/Data/chestX-ray14-extracted/*/images/*.png')\n",
    "img_path = {os.path.basename(x): x for x in num_glob}\n",
    "\n",
    "labels_df['Paths'] = labels_df['Image Index'].map(img_path.get)\n",
    "labels_df.head()"
   ]
  },
  {
   "cell_type": "markdown",
   "metadata": {},
   "source": [
    "# **Step 4: Exploratory Data Analysis (EDA)**"
   ]
  },
  {
   "cell_type": "markdown",
   "metadata": {},
   "source": [
    "**Number of Patients**"
   ]
  },
  {
   "cell_type": "code",
   "execution_count": 7,
   "metadata": {},
   "outputs": [
    {
     "data": {
      "text/plain": [
       "30805"
      ]
     },
     "execution_count": 7,
     "metadata": {},
     "output_type": "execute_result"
    }
   ],
   "source": [
    "unique_patients = np.unique(labels_df['Patient ID'])\n",
    "len(unique_patients)"
   ]
  },
  {
   "cell_type": "markdown",
   "metadata": {},
   "source": [
    "# **Step 5: Split Dataset**"
   ]
  },
  {
   "cell_type": "code",
   "execution_count": 8,
   "metadata": {},
   "outputs": [
    {
     "data": {
      "text/plain": [
       "24644"
      ]
     },
     "execution_count": 8,
     "metadata": {},
     "output_type": "execute_result"
    }
   ],
   "source": [
    "from sklearn.model_selection import train_test_split\n",
    "\n",
    "# train-70\n",
    "# val-10\n",
    "# test-20\n",
    "train_val_df_patients, test_df_patients = train_test_split(unique_patients, \n",
    "                                   test_size = 0.2,\n",
    "                                   random_state = SEED,\n",
    "                                    shuffle= True\n",
    "                                   )\n",
    "len(train_val_df_patients)"
   ]
  },
  {
   "cell_type": "code",
   "execution_count": 9,
   "metadata": {},
   "outputs": [
    {
     "data": {
      "text/html": [
       "<div>\n",
       "<style scoped>\n",
       "    .dataframe tbody tr th:only-of-type {\n",
       "        vertical-align: middle;\n",
       "    }\n",
       "\n",
       "    .dataframe tbody tr th {\n",
       "        vertical-align: top;\n",
       "    }\n",
       "\n",
       "    .dataframe thead th {\n",
       "        text-align: right;\n",
       "    }\n",
       "</style>\n",
       "<table border=\"1\" class=\"dataframe\">\n",
       "  <thead>\n",
       "    <tr style=\"text-align: right;\">\n",
       "      <th></th>\n",
       "      <th>Image Index</th>\n",
       "      <th>Finding Labels</th>\n",
       "      <th>Follow-up #</th>\n",
       "      <th>Patient ID</th>\n",
       "      <th>Patient Age</th>\n",
       "      <th>Patient Gender</th>\n",
       "      <th>View Position</th>\n",
       "      <th>OriginalImage[Width</th>\n",
       "      <th>Height]</th>\n",
       "      <th>OriginalImagePixelSpacing[x</th>\n",
       "      <th>...</th>\n",
       "      <th>Emphysema</th>\n",
       "      <th>Fibrosis</th>\n",
       "      <th>Effusion</th>\n",
       "      <th>Pneumonia</th>\n",
       "      <th>Pleural_Thickening</th>\n",
       "      <th>Cardiomegaly</th>\n",
       "      <th>Nodule</th>\n",
       "      <th>Mass</th>\n",
       "      <th>Hernia</th>\n",
       "      <th>Paths</th>\n",
       "    </tr>\n",
       "  </thead>\n",
       "  <tbody>\n",
       "    <tr>\n",
       "      <th>0</th>\n",
       "      <td>00000001_000.png</td>\n",
       "      <td>[Cardiomegaly]</td>\n",
       "      <td>0</td>\n",
       "      <td>1</td>\n",
       "      <td>58</td>\n",
       "      <td>M</td>\n",
       "      <td>PA</td>\n",
       "      <td>2682</td>\n",
       "      <td>2749</td>\n",
       "      <td>0.143</td>\n",
       "      <td>...</td>\n",
       "      <td>0</td>\n",
       "      <td>0</td>\n",
       "      <td>0</td>\n",
       "      <td>0</td>\n",
       "      <td>0</td>\n",
       "      <td>1</td>\n",
       "      <td>0</td>\n",
       "      <td>0</td>\n",
       "      <td>0</td>\n",
       "      <td>/cluster/home/bjorneme/projects/Data/chestX-ra...</td>\n",
       "    </tr>\n",
       "    <tr>\n",
       "      <th>1</th>\n",
       "      <td>00000001_001.png</td>\n",
       "      <td>[Cardiomegaly, Emphysema]</td>\n",
       "      <td>1</td>\n",
       "      <td>1</td>\n",
       "      <td>58</td>\n",
       "      <td>M</td>\n",
       "      <td>PA</td>\n",
       "      <td>2894</td>\n",
       "      <td>2729</td>\n",
       "      <td>0.143</td>\n",
       "      <td>...</td>\n",
       "      <td>1</td>\n",
       "      <td>0</td>\n",
       "      <td>0</td>\n",
       "      <td>0</td>\n",
       "      <td>0</td>\n",
       "      <td>1</td>\n",
       "      <td>0</td>\n",
       "      <td>0</td>\n",
       "      <td>0</td>\n",
       "      <td>/cluster/home/bjorneme/projects/Data/chestX-ra...</td>\n",
       "    </tr>\n",
       "    <tr>\n",
       "      <th>2</th>\n",
       "      <td>00000001_002.png</td>\n",
       "      <td>[Cardiomegaly, Effusion]</td>\n",
       "      <td>2</td>\n",
       "      <td>1</td>\n",
       "      <td>58</td>\n",
       "      <td>M</td>\n",
       "      <td>PA</td>\n",
       "      <td>2500</td>\n",
       "      <td>2048</td>\n",
       "      <td>0.168</td>\n",
       "      <td>...</td>\n",
       "      <td>0</td>\n",
       "      <td>0</td>\n",
       "      <td>1</td>\n",
       "      <td>0</td>\n",
       "      <td>0</td>\n",
       "      <td>1</td>\n",
       "      <td>0</td>\n",
       "      <td>0</td>\n",
       "      <td>0</td>\n",
       "      <td>/cluster/home/bjorneme/projects/Data/chestX-ra...</td>\n",
       "    </tr>\n",
       "    <tr>\n",
       "      <th>3</th>\n",
       "      <td>00000002_000.png</td>\n",
       "      <td>[No Finding]</td>\n",
       "      <td>0</td>\n",
       "      <td>2</td>\n",
       "      <td>81</td>\n",
       "      <td>M</td>\n",
       "      <td>PA</td>\n",
       "      <td>2500</td>\n",
       "      <td>2048</td>\n",
       "      <td>0.171</td>\n",
       "      <td>...</td>\n",
       "      <td>0</td>\n",
       "      <td>0</td>\n",
       "      <td>0</td>\n",
       "      <td>0</td>\n",
       "      <td>0</td>\n",
       "      <td>0</td>\n",
       "      <td>0</td>\n",
       "      <td>0</td>\n",
       "      <td>0</td>\n",
       "      <td>/cluster/home/bjorneme/projects/Data/chestX-ra...</td>\n",
       "    </tr>\n",
       "    <tr>\n",
       "      <th>4</th>\n",
       "      <td>00000003_000.png</td>\n",
       "      <td>[Hernia]</td>\n",
       "      <td>0</td>\n",
       "      <td>3</td>\n",
       "      <td>81</td>\n",
       "      <td>F</td>\n",
       "      <td>PA</td>\n",
       "      <td>2582</td>\n",
       "      <td>2991</td>\n",
       "      <td>0.143</td>\n",
       "      <td>...</td>\n",
       "      <td>0</td>\n",
       "      <td>0</td>\n",
       "      <td>0</td>\n",
       "      <td>0</td>\n",
       "      <td>0</td>\n",
       "      <td>0</td>\n",
       "      <td>0</td>\n",
       "      <td>0</td>\n",
       "      <td>1</td>\n",
       "      <td>/cluster/home/bjorneme/projects/Data/chestX-ra...</td>\n",
       "    </tr>\n",
       "  </tbody>\n",
       "</table>\n",
       "<p>5 rows × 27 columns</p>\n",
       "</div>"
      ],
      "text/plain": [
       "        Image Index             Finding Labels  Follow-up #  Patient ID  \\\n",
       "0  00000001_000.png             [Cardiomegaly]            0           1   \n",
       "1  00000001_001.png  [Cardiomegaly, Emphysema]            1           1   \n",
       "2  00000001_002.png   [Cardiomegaly, Effusion]            2           1   \n",
       "3  00000002_000.png               [No Finding]            0           2   \n",
       "4  00000003_000.png                   [Hernia]            0           3   \n",
       "\n",
       "   Patient Age Patient Gender View Position  OriginalImage[Width  Height]  \\\n",
       "0           58              M            PA                 2682     2749   \n",
       "1           58              M            PA                 2894     2729   \n",
       "2           58              M            PA                 2500     2048   \n",
       "3           81              M            PA                 2500     2048   \n",
       "4           81              F            PA                 2582     2991   \n",
       "\n",
       "   OriginalImagePixelSpacing[x  ...  Emphysema  Fibrosis  Effusion  Pneumonia  \\\n",
       "0                        0.143  ...          0         0         0          0   \n",
       "1                        0.143  ...          1         0         0          0   \n",
       "2                        0.168  ...          0         0         1          0   \n",
       "3                        0.171  ...          0         0         0          0   \n",
       "4                        0.143  ...          0         0         0          0   \n",
       "\n",
       "   Pleural_Thickening  Cardiomegaly  Nodule  Mass  Hernia  \\\n",
       "0                   0             1       0     0       0   \n",
       "1                   0             1       0     0       0   \n",
       "2                   0             1       0     0       0   \n",
       "3                   0             0       0     0       0   \n",
       "4                   0             0       0     0       1   \n",
       "\n",
       "                                               Paths  \n",
       "0  /cluster/home/bjorneme/projects/Data/chestX-ra...  \n",
       "1  /cluster/home/bjorneme/projects/Data/chestX-ra...  \n",
       "2  /cluster/home/bjorneme/projects/Data/chestX-ra...  \n",
       "3  /cluster/home/bjorneme/projects/Data/chestX-ra...  \n",
       "4  /cluster/home/bjorneme/projects/Data/chestX-ra...  \n",
       "\n",
       "[5 rows x 27 columns]"
      ]
     },
     "execution_count": 9,
     "metadata": {},
     "output_type": "execute_result"
    }
   ],
   "source": [
    "train_val_df = labels_df[labels_df['Patient ID'].isin(train_val_df_patients)]\n",
    "\n",
    "train_val_df.head()"
   ]
  },
  {
   "cell_type": "code",
   "execution_count": 10,
   "metadata": {},
   "outputs": [
    {
     "name": "stdout",
     "output_type": "stream",
     "text": [
      "train_val size 89826\n",
      "test size 22294\n"
     ]
    }
   ],
   "source": [
    "labels_df.shape\n",
    "print('train_val size', train_val_df.shape[0])\n",
    "print('test size', labels_df.shape[0] - train_val_df.shape[0])"
   ]
  },
  {
   "cell_type": "code",
   "execution_count": 11,
   "metadata": {},
   "outputs": [],
   "source": [
    "import fastai\n",
    "from fastai.vision.all import *\n",
    "\n",
    "item_transforms = [\n",
    "    Resize((224, 224)),\n",
    "]\n",
    "\n",
    "batch_transforms = [\n",
    "    Flip(),\n",
    "    Rotate(),\n",
    "    Normalize.from_stats(*imagenet_stats),\n",
    "]\n",
    "\n",
    "\n",
    "def get_x(row):\n",
    "    return row['Paths']\n",
    "\n",
    "def get_y(row):\n",
    "    labels = row[disease_labels].tolist()\n",
    "    return labels\n",
    "\n",
    "dblock = DataBlock(\n",
    "    blocks=(ImageBlock, MultiCategoryBlock(encoded=True,vocab=disease_labels)),\n",
    "                   splitter=RandomSplitter(valid_pct=0.125, seed=SEED),\n",
    "                   get_x=get_x,\n",
    "                   get_y=get_y,\n",
    "                   item_tfms=item_transforms,\n",
    "                   batch_tfms=batch_transforms\n",
    "                  )\n",
    "dls = dblock.dataloaders(train_val_df, bs=32)\n",
    "# print(dblock.datasets(train_val_merge).train)"
   ]
  },
  {
   "cell_type": "code",
   "execution_count": 12,
   "metadata": {},
   "outputs": [],
   "source": [
    "from fastai.vision.all import *\n",
    "import torch\n",
    "from torchvision.models import swin_v2_t, Swin_V2_T_Weights\n",
    "\n",
    "# Step 1: Instantiate the Swin Transformer Tiny model with pretrained weights\n",
    "model = swin_v2_t(weights=Swin_V2_T_Weights.IMAGENET1K_V1)\n",
    "\n",
    "# Step 2: Modify the final layer to match the number of classes in your dataset\n",
    "# Assume 'dls' is your DataLoaders object\n",
    "num_classes = dls.c  # Number of classes\n",
    "model.head = torch.nn.Linear(model.head.in_features, num_classes)\n",
    "\n",
    "# Step 3: Define callbacks\n",
    "cbs = [\n",
    "    SaveModelCallback(monitor='valid_loss', min_delta=0.0001, with_opt=True),\n",
    "    EarlyStoppingCallback(monitor='valid_loss', min_delta=0.001, patience=5),\n",
    "    ShowGraphCallback()\n",
    "]\n",
    "\n",
    "# Step 4: Create the Fastai Learner with the custom model\n",
    "learn = Learner(\n",
    "    dls,\n",
    "    model,\n",
    "    metrics=[accuracy_multi, F1ScoreMulti(), RocAucMulti()],\n",
    "    cbs=cbs,\n",
    "    wd=0.001\n",
    ")\n",
    "\n",
    "# Optional: Wrap the model with DataParallel for multi-GPU training\n",
    "learn.model = torch.nn.DataParallel(learn.model)"
   ]
  },
  {
   "cell_type": "code",
   "execution_count": 13,
   "metadata": {},
   "outputs": [
    {
     "name": "stdout",
     "output_type": "stream",
     "text": [
      "Requirement already satisfied: tensorflow in /cluster/home/bjorneme/.conda/envs/master_thesis/lib/python3.11/site-packages (2.18.0)\n",
      "Requirement already satisfied: absl-py>=1.0.0 in /cluster/home/bjorneme/.conda/envs/master_thesis/lib/python3.11/site-packages (from tensorflow) (2.1.0)\n",
      "Requirement already satisfied: astunparse>=1.6.0 in /cluster/home/bjorneme/.conda/envs/master_thesis/lib/python3.11/site-packages (from tensorflow) (1.6.3)\n",
      "Requirement already satisfied: flatbuffers>=24.3.25 in /cluster/home/bjorneme/.conda/envs/master_thesis/lib/python3.11/site-packages (from tensorflow) (24.3.25)\n",
      "Requirement already satisfied: gast!=0.5.0,!=0.5.1,!=0.5.2,>=0.2.1 in /cluster/home/bjorneme/.conda/envs/master_thesis/lib/python3.11/site-packages (from tensorflow) (0.6.0)\n",
      "Requirement already satisfied: google-pasta>=0.1.1 in /cluster/home/bjorneme/.conda/envs/master_thesis/lib/python3.11/site-packages (from tensorflow) (0.2.0)\n",
      "Requirement already satisfied: libclang>=13.0.0 in /cluster/home/bjorneme/.conda/envs/master_thesis/lib/python3.11/site-packages (from tensorflow) (18.1.1)\n",
      "Requirement already satisfied: opt-einsum>=2.3.2 in /cluster/home/bjorneme/.conda/envs/master_thesis/lib/python3.11/site-packages (from tensorflow) (3.4.0)\n",
      "Requirement already satisfied: packaging in /cluster/home/bjorneme/.conda/envs/master_thesis/lib/python3.11/site-packages (from tensorflow) (24.2)\n",
      "Requirement already satisfied: protobuf!=4.21.0,!=4.21.1,!=4.21.2,!=4.21.3,!=4.21.4,!=4.21.5,<6.0.0dev,>=3.20.3 in /cluster/home/bjorneme/.conda/envs/master_thesis/lib/python3.11/site-packages (from tensorflow) (5.28.3)\n",
      "Requirement already satisfied: requests<3,>=2.21.0 in /cluster/home/bjorneme/.conda/envs/master_thesis/lib/python3.11/site-packages (from tensorflow) (2.32.3)\n",
      "Requirement already satisfied: setuptools in /cluster/home/bjorneme/.conda/envs/master_thesis/lib/python3.11/site-packages (from tensorflow) (75.1.0)\n",
      "Requirement already satisfied: six>=1.12.0 in /cluster/home/bjorneme/.local/lib/python3.11/site-packages (from tensorflow) (1.16.0)\n",
      "Requirement already satisfied: termcolor>=1.1.0 in /cluster/home/bjorneme/.conda/envs/master_thesis/lib/python3.11/site-packages (from tensorflow) (2.5.0)\n",
      "Requirement already satisfied: typing-extensions>=3.6.6 in /cluster/home/bjorneme/.local/lib/python3.11/site-packages (from tensorflow) (4.12.2)\n",
      "Requirement already satisfied: wrapt>=1.11.0 in /cluster/home/bjorneme/.conda/envs/master_thesis/lib/python3.11/site-packages (from tensorflow) (1.16.0)\n",
      "Requirement already satisfied: grpcio<2.0,>=1.24.3 in /cluster/home/bjorneme/.conda/envs/master_thesis/lib/python3.11/site-packages (from tensorflow) (1.68.0)\n",
      "Requirement already satisfied: tensorboard<2.19,>=2.18 in /cluster/home/bjorneme/.conda/envs/master_thesis/lib/python3.11/site-packages (from tensorflow) (2.18.0)\n",
      "Requirement already satisfied: keras>=3.5.0 in /cluster/home/bjorneme/.conda/envs/master_thesis/lib/python3.11/site-packages (from tensorflow) (3.6.0)\n",
      "Requirement already satisfied: numpy<2.1.0,>=1.26.0 in /cluster/home/bjorneme/.conda/envs/master_thesis/lib/python3.11/site-packages (from tensorflow) (2.0.2)\n",
      "Requirement already satisfied: h5py>=3.11.0 in /cluster/home/bjorneme/.conda/envs/master_thesis/lib/python3.11/site-packages (from tensorflow) (3.12.1)\n",
      "Requirement already satisfied: ml-dtypes<0.5.0,>=0.4.0 in /cluster/home/bjorneme/.conda/envs/master_thesis/lib/python3.11/site-packages (from tensorflow) (0.4.1)\n",
      "Requirement already satisfied: tensorflow-io-gcs-filesystem>=0.23.1 in /cluster/home/bjorneme/.conda/envs/master_thesis/lib/python3.11/site-packages (from tensorflow) (0.37.1)\n",
      "Requirement already satisfied: wheel<1.0,>=0.23.0 in /cluster/home/bjorneme/.conda/envs/master_thesis/lib/python3.11/site-packages (from astunparse>=1.6.0->tensorflow) (0.44.0)\n",
      "Requirement already satisfied: rich in /cluster/home/bjorneme/.conda/envs/master_thesis/lib/python3.11/site-packages (from keras>=3.5.0->tensorflow) (13.9.4)\n",
      "Requirement already satisfied: namex in /cluster/home/bjorneme/.conda/envs/master_thesis/lib/python3.11/site-packages (from keras>=3.5.0->tensorflow) (0.0.8)\n",
      "Requirement already satisfied: optree in /cluster/home/bjorneme/.conda/envs/master_thesis/lib/python3.11/site-packages (from keras>=3.5.0->tensorflow) (0.13.1)\n",
      "Requirement already satisfied: charset-normalizer<4,>=2 in /cluster/home/bjorneme/.conda/envs/master_thesis/lib/python3.11/site-packages (from requests<3,>=2.21.0->tensorflow) (3.4.0)\n",
      "Requirement already satisfied: idna<4,>=2.5 in /cluster/home/bjorneme/.conda/envs/master_thesis/lib/python3.11/site-packages (from requests<3,>=2.21.0->tensorflow) (3.10)\n",
      "Requirement already satisfied: urllib3<3,>=1.21.1 in /cluster/home/bjorneme/.conda/envs/master_thesis/lib/python3.11/site-packages (from requests<3,>=2.21.0->tensorflow) (2.2.3)\n",
      "Requirement already satisfied: certifi>=2017.4.17 in /cluster/home/bjorneme/.conda/envs/master_thesis/lib/python3.11/site-packages (from requests<3,>=2.21.0->tensorflow) (2024.8.30)\n",
      "Requirement already satisfied: markdown>=2.6.8 in /cluster/home/bjorneme/.conda/envs/master_thesis/lib/python3.11/site-packages (from tensorboard<2.19,>=2.18->tensorflow) (3.7)\n",
      "Requirement already satisfied: tensorboard-data-server<0.8.0,>=0.7.0 in /cluster/home/bjorneme/.conda/envs/master_thesis/lib/python3.11/site-packages (from tensorboard<2.19,>=2.18->tensorflow) (0.7.2)\n",
      "Requirement already satisfied: werkzeug>=1.0.1 in /cluster/home/bjorneme/.conda/envs/master_thesis/lib/python3.11/site-packages (from tensorboard<2.19,>=2.18->tensorflow) (3.1.3)\n",
      "Requirement already satisfied: MarkupSafe>=2.1.1 in /cluster/home/bjorneme/.local/lib/python3.11/site-packages (from werkzeug>=1.0.1->tensorboard<2.19,>=2.18->tensorflow) (2.1.5)\n",
      "Requirement already satisfied: markdown-it-py>=2.2.0 in /cluster/home/bjorneme/.conda/envs/master_thesis/lib/python3.11/site-packages (from rich->keras>=3.5.0->tensorflow) (3.0.0)\n",
      "Requirement already satisfied: pygments<3.0.0,>=2.13.0 in /cluster/home/bjorneme/.conda/envs/master_thesis/lib/python3.11/site-packages (from rich->keras>=3.5.0->tensorflow) (2.18.0)\n",
      "Requirement already satisfied: mdurl~=0.1 in /cluster/home/bjorneme/.conda/envs/master_thesis/lib/python3.11/site-packages (from markdown-it-py>=2.2.0->rich->keras>=3.5.0->tensorflow) (0.1.2)\n",
      "Note: you may need to restart the kernel to use updated packages.\n"
     ]
    }
   ],
   "source": [
    "pip install tensorflow"
   ]
  },
  {
   "cell_type": "code",
   "execution_count": 14,
   "metadata": {},
   "outputs": [
    {
     "name": "stderr",
     "output_type": "stream",
     "text": [
      "2024-11-21 21:21:05.356896: I tensorflow/core/util/port.cc:153] oneDNN custom operations are on. You may see slightly different numerical results due to floating-point round-off errors from different computation orders. To turn them off, set the environment variable `TF_ENABLE_ONEDNN_OPTS=0`.\n",
      "2024-11-21 21:21:05.371885: E external/local_xla/xla/stream_executor/cuda/cuda_fft.cc:477] Unable to register cuFFT factory: Attempting to register factory for plugin cuFFT when one has already been registered\n",
      "WARNING: All log messages before absl::InitializeLog() is called are written to STDERR\n",
      "E0000 00:00:1732220465.387999 2426070 cuda_dnn.cc:8310] Unable to register cuDNN factory: Attempting to register factory for plugin cuDNN when one has already been registered\n",
      "E0000 00:00:1732220465.392698 2426070 cuda_blas.cc:1418] Unable to register cuBLAS factory: Attempting to register factory for plugin cuBLAS when one has already been registered\n",
      "2024-11-21 21:21:05.410200: I tensorflow/core/platform/cpu_feature_guard.cc:210] This TensorFlow binary is optimized to use available CPU instructions in performance-critical operations.\n",
      "To enable the following instructions: AVX2 AVX512F AVX512_VNNI FMA, in other operations, rebuild TensorFlow with the appropriate compiler flags.\n"
     ]
    },
    {
     "name": "stdout",
     "output_type": "stream",
     "text": [
      "Num GPUs Available:  4\n"
     ]
    }
   ],
   "source": [
    "import tensorflow as tf\n",
    "print(\"Num GPUs Available: \", len(tf.config.list_physical_devices('GPU')))"
   ]
  },
  {
   "cell_type": "markdown",
   "metadata": {},
   "source": [
    "# **Step 5: Build the Model**"
   ]
  },
  {
   "cell_type": "code",
   "execution_count": 15,
   "metadata": {},
   "outputs": [
    {
     "name": "stderr",
     "output_type": "stream",
     "text": [
      "/cluster/home/bjorneme/.conda/envs/master_thesis/lib/python3.11/site-packages/fastai/learner.py:53: FutureWarning: You are using `torch.load` with `weights_only=False` (the current default value), which uses the default pickle module implicitly. It is possible to construct malicious pickle data which will execute arbitrary code during unpickling (See https://github.com/pytorch/pytorch/blob/main/SECURITY.md#untrusted-models for more details). In a future release, the default value for `weights_only` will be flipped to `True`. This limits the functions that could be executed during unpickling. Arbitrary objects will no longer be allowed to be loaded via this mode unless they are explicitly allowlisted by the user via `torch.serialization.add_safe_globals`. We recommend you start setting `weights_only=True` for any use case where you don't have full control of the loaded file. Please open an issue on GitHub for any issues related to this experimental feature.\n",
      "  state = torch.load(file, map_location=device, **torch_load_kwargs)\n"
     ]
    },
    {
     "name": "stdout",
     "output_type": "stream",
     "text": [
      "intial learning rate= 0.00010964782268274575\n"
     ]
    },
    {
     "data": {
      "image/png": "[encoded data removed]",
      "text/plain": [
       "<Figure size 640x480 with 1 Axes>"
      ]
     },
     "metadata": {},
     "output_type": "display_data"
    }
   ],
   "source": [
    "lrs = learn.lr_find(suggest_funcs=(minimum, steep, valley, slide))\n",
    "print('intial learning rate=', lrs.valley)"
   ]
  },
  {
   "cell_type": "code",
   "execution_count": 16,
   "metadata": {},
   "outputs": [],
   "source": [
    "learn.fine_tune(freeze_epochs=3,epochs=10, base_lr=lrs.valley)"
   ]
  },
  {
   "cell_type": "markdown",
   "metadata": {},
   "source": [
    "# **Step 6: Train the Model**"
   ]
  },
  {
   "cell_type": "markdown",
   "metadata": {},
   "source": [
    "# **Step 7: Evaluate the Model**"
   ]
  },
  {
   "cell_type": "code",
   "execution_count": null,
   "metadata": {},
   "outputs": [],
   "source": [
    "# TODO"
   ]
  }
 ],
 "metadata": {
  "kernelspec": {
   "display_name": "Python 3",
   "language": "python",
   "name": "python3"
  },
  "language_info": {
   "codemirror_mode": {
    "name": "ipython",
    "version": 3
   },
   "file_extension": ".py",
   "mimetype": "text/x-python",
   "name": "python",
   "nbconvert_exporter": "python",
   "pygments_lexer": "ipython3",
   "version": "3.11.10"
  },
  "orig_nbformat": 4
 },
 "nbformat": 4,
 "nbformat_minor": 2
}
